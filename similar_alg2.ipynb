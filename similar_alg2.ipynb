{
 "cells": [
  {
   "cell_type": "markdown",
   "metadata": {},
   "source": [
    "ベクトルを足さず、コサイン類似度のみで言葉を生成する。"
   ]
  },
  {
   "cell_type": "code",
   "execution_count": 1,
   "metadata": {},
   "outputs": [],
   "source": [
    "from gensim.models import KeyedVectors\n",
    "import json\n",
    "\n",
    "# Word2Vecモデルのロード\n",
    "model = KeyedVectors.load_word2vec_format('model_neo_nouns_only.bin', binary=True)\n",
    "\n",
    "with open('word_pairs.json', 'r', encoding='utf-8') as f:\n",
    "    word_pairs = json.load(f)"
   ]
  },
  {
   "cell_type": "code",
   "execution_count": 3,
   "metadata": {},
   "outputs": [
    {
     "data": {
      "text/plain": [
       "[('サントリー天然水', 0.7073501944541931),\n",
       " ('南アルプスの天然水', 0.6818466186523438),\n",
       " ('ナチュラルミネラルウォーター', 0.6715477705001831),\n",
       " ('ミネラルウォーター', 0.6250886917114258),\n",
       " ('アサヒおいしい水', 0.6134332418441772),\n",
       " ('おいしい水', 0.6005318760871887),\n",
       " ('缶チューハイ', 0.5496819019317627),\n",
       " ('名水', 0.5460743308067322),\n",
       " ('ザ・プレミアム・モルツ', 0.5439411997795105),\n",
       " ('カルピスウォーター', 0.5420613884925842)]"
      ]
     },
     "execution_count": 3,
     "metadata": {},
     "output_type": "execute_result"
    }
   ],
   "source": [
    "\n",
    "word = \"天然水\"\n",
    "# model.similar_by_word(word)\n",
    "lst = model.similar_by_key(word, topn=10)\n",
    "lst"
   ]
  },
  {
   "cell_type": "markdown",
   "metadata": {},
   "source": [
    "ベクトルを足したあとに生成した場合"
   ]
  },
  {
   "cell_type": "code",
   "execution_count": 4,
   "metadata": {},
   "outputs": [
    {
     "data": {
      "text/plain": [
       "[('天然水', 0.7850627303123474),\n",
       " ('南アルプスの天然水', 0.5530255436897278),\n",
       " ('サントリー天然水', 0.5445462465286255),\n",
       " ('ナチュラルミネラルウォーター', 0.4818604588508606),\n",
       " ('ミネラルウォーター', 0.46700742840766907),\n",
       " ('アサヒおいしい水', 0.45366722345352173),\n",
       " ('日本酒', 0.4358205199241638),\n",
       " ('おいしい水', 0.43400683999061584),\n",
       " ('千枚田', 0.42660924792289734),\n",
       " ('清酒', 0.41334670782089233)]"
      ]
     },
     "execution_count": 4,
     "metadata": {},
     "output_type": "execute_result"
    }
   ],
   "source": [
    "import numpy as np\n",
    "import matplotlib.pyplot as plt\n",
    "from scipy.stats import gaussian_kde\n",
    "\n",
    "vector_diff = [] # ベクトルの差のリスト\n",
    "for word1, word2 in word_pairs:\n",
    "    if word1 in model.key_to_index and word2 in model.key_to_index:\n",
    "        vector_diff.append(model[word1] - model[word2])\n",
    "        \n",
    "v = np.concatenate(vector_diff)\n",
    "kde = gaussian_kde(v)\n",
    "\n",
    "pre_vec_diff = kde.resample(300).flatten()\n",
    "vec_generated = model[word] + pre_vec_diff\n",
    "\n",
    "model.similar_by_vector(vec_generated, topn=10)"
   ]
  },
  {
   "cell_type": "code",
   "execution_count": 15,
   "metadata": {},
   "outputs": [
    {
     "name": "stdout",
     "output_type": "stream",
     "text": [
      "['日本語', 'の', 'テキスト', 'を', '解析', 'し', 'ます', '。']\n"
     ]
    }
   ],
   "source": [
    "import MeCab\n",
    "import ipadic\n",
    "\n",
    "def process_text_japanese(text):\n",
    "    mecab = MeCab.Tagger(\"-Owakati\")\n",
    "    parsed_text = mecab.parse(text)\n",
    "    words = parsed_text.strip().split()\n",
    "    return words\n",
    "\n",
    "# 使用例\n",
    "text = \"日本語のテキストを解析します。\"\n",
    "words = process_text_japanese(text)\n",
    "print(words)\n"
   ]
  },
  {
   "cell_type": "code",
   "execution_count": 25,
   "metadata": {},
   "outputs": [
    {
     "name": "stdout",
     "output_type": "stream",
     "text": [
      "日本語\t名詞,一般,*,*,*,*,日本語,ニホンゴ,ニホンゴ\n",
      "の\t助詞,連体化,*,*,*,*,の,ノ,ノ\n",
      "テキスト\t名詞,一般,*,*,*,*,テキスト,テキスト,テキスト\n",
      "を\t助詞,格助詞,一般,*,*,*,を,ヲ,ヲ\n",
      "解析\t名詞,サ変接続,*,*,*,*,解析,カイセキ,カイセキ\n",
      "し\t動詞,自立,*,*,サ変・スル,連用形,する,シ,シ\n",
      "ます\t助動詞,*,*,*,特殊・マス,基本形,ます,マス,マス\n",
      "。\t記号,句点,*,*,*,*,。,。,。\n",
      "EOS\n",
      "\n",
      "['日本語', 'テキスト', '解析']\n",
      "Counter({'日本語': 1, 'テキスト': 1, '解析': 1})\n"
     ]
    }
   ],
   "source": [
    "from collections import Counter\n",
    "\n",
    "\n",
    "mecab = MeCab.Tagger(ipadic.MECAB_ARGS)\n",
    "text = \"日本語のテキストを解析します。\"\n",
    "parsed_text = mecab.parse(text)\n",
    "print(parsed_text)\n",
    "\n",
    "nouns = []\n",
    "for line in parsed_text.splitlines():\n",
    "    if \"名詞\" in line:\n",
    "        noun = line.split()[0]  # 名詞の単語部分を取得\n",
    "        nouns.append(noun)\n",
    "print(nouns)\n",
    "\n",
    "word_counts = Counter()\n",
    "word_counts.update(nouns)\n",
    "print(word_counts)"
   ]
  },
  {
   "cell_type": "code",
   "execution_count": 17,
   "metadata": {},
   "outputs": [
    {
     "name": "stderr",
     "output_type": "stream",
     "text": [
      "95it [00:44,  2.13it/s]\n"
     ]
    },
    {
     "ename": "KeyboardInterrupt",
     "evalue": "",
     "output_type": "error",
     "traceback": [
      "\u001b[0;31m---------------------------------------------------------------------------\u001b[0m",
      "\u001b[0;31mModuleNotFoundError\u001b[0m                       Traceback (most recent call last)",
      "File \u001b[0;32m/usr/local/lib/python3.12/site-packages/MeCab/__init__.py:61\u001b[0m, in \u001b[0;36mtry_import_unidic\u001b[0;34m()\u001b[0m\n\u001b[1;32m     60\u001b[0m \u001b[39mtry\u001b[39;00m:\n\u001b[0;32m---> 61\u001b[0m     \u001b[39mimport\u001b[39;00m \u001b[39munidic\u001b[39;00m\n\u001b[1;32m     62\u001b[0m     \u001b[39mreturn\u001b[39;00m unidic\u001b[39m.\u001b[39mDICDIR\n",
      "\u001b[0;31mModuleNotFoundError\u001b[0m: No module named 'unidic'",
      "\nDuring handling of the above exception, another exception occurred:\n",
      "\u001b[0;31mKeyboardInterrupt\u001b[0m                         Traceback (most recent call last)",
      "\u001b[1;32m/root/wordwolf_ml/similar_alg2.ipynb セル 8\u001b[0m line \u001b[0;36m2\n\u001b[1;32m     <a href='vscode-notebook-cell://attached-container%2B7b22636f6e7461696e65724e616d65223a222f776f7264776f6c665f6d6c32227d/root/wordwolf_ml/similar_alg2.ipynb#X10sdnNjb2RlLXJlbW90ZQ%3D%3D?line=18'>19</a>\u001b[0m \u001b[39mfor\u001b[39;00m text \u001b[39min\u001b[39;00m tqdm(wiki_corpus\u001b[39m.\u001b[39mget_texts()):\n\u001b[1;32m     <a href='vscode-notebook-cell://attached-container%2B7b22636f6e7461696e65724e616d65223a222f776f7264776f6c665f6d6c32227d/root/wordwolf_ml/similar_alg2.ipynb#X10sdnNjb2RlLXJlbW90ZQ%3D%3D?line=19'>20</a>\u001b[0m     \u001b[39mfor\u001b[39;00m w \u001b[39min\u001b[39;00m text:\n\u001b[0;32m---> <a href='vscode-notebook-cell://attached-container%2B7b22636f6e7461696e65724e616d65223a222f776f7264776f6c665f6d6c32227d/root/wordwolf_ml/similar_alg2.ipynb#X10sdnNjb2RlLXJlbW90ZQ%3D%3D?line=20'>21</a>\u001b[0m         word_counts\u001b[39m.\u001b[39mupdate(process_text(w))\n\u001b[1;32m     <a href='vscode-notebook-cell://attached-container%2B7b22636f6e7461696e65724e616d65223a222f776f7264776f6c665f6d6c32227d/root/wordwolf_ml/similar_alg2.ipynb#X10sdnNjb2RlLXJlbW90ZQ%3D%3D?line=22'>23</a>\u001b[0m \u001b[39m# ステップ4: 頻度の高い単語のランキング作成\u001b[39;00m\n\u001b[1;32m     <a href='vscode-notebook-cell://attached-container%2B7b22636f6e7461696e65724e616d65223a222f776f7264776f6c665f6d6c32227d/root/wordwolf_ml/similar_alg2.ipynb#X10sdnNjb2RlLXJlbW90ZQ%3D%3D?line=23'>24</a>\u001b[0m most_common_words \u001b[39m=\u001b[39m word_counts\u001b[39m.\u001b[39mmost_common()\n",
      "\u001b[1;32m/root/wordwolf_ml/similar_alg2.ipynb セル 8\u001b[0m line \u001b[0;36m1\n\u001b[1;32m     <a href='vscode-notebook-cell://attached-container%2B7b22636f6e7461696e65724e616d65223a222f776f7264776f6c665f6d6c32227d/root/wordwolf_ml/similar_alg2.ipynb#X10sdnNjb2RlLXJlbW90ZQ%3D%3D?line=10'>11</a>\u001b[0m \u001b[39mdef\u001b[39;00m \u001b[39mprocess_text\u001b[39m(text):\n\u001b[0;32m---> <a href='vscode-notebook-cell://attached-container%2B7b22636f6e7461696e65724e616d65223a222f776f7264776f6c665f6d6c32227d/root/wordwolf_ml/similar_alg2.ipynb#X10sdnNjb2RlLXJlbW90ZQ%3D%3D?line=11'>12</a>\u001b[0m     mecab \u001b[39m=\u001b[39m MeCab\u001b[39m.\u001b[39;49mTagger(\u001b[39m\"\u001b[39;49m\u001b[39m-Owakati\u001b[39;49m\u001b[39m\"\u001b[39;49m)\n\u001b[1;32m     <a href='vscode-notebook-cell://attached-container%2B7b22636f6e7461696e65724e616d65223a222f776f7264776f6c665f6d6c32227d/root/wordwolf_ml/similar_alg2.ipynb#X10sdnNjb2RlLXJlbW90ZQ%3D%3D?line=12'>13</a>\u001b[0m     parsed_text \u001b[39m=\u001b[39m mecab\u001b[39m.\u001b[39mparse(text)\n\u001b[1;32m     <a href='vscode-notebook-cell://attached-container%2B7b22636f6e7461696e65724e616d65223a222f776f7264776f6c665f6d6c32227d/root/wordwolf_ml/similar_alg2.ipynb#X10sdnNjb2RlLXJlbW90ZQ%3D%3D?line=13'>14</a>\u001b[0m     words \u001b[39m=\u001b[39m parsed_text\u001b[39m.\u001b[39mstrip()\u001b[39m.\u001b[39msplit()\n",
      "File \u001b[0;32m/usr/local/lib/python3.12/site-packages/MeCab/__init__.py:121\u001b[0m, in \u001b[0;36mTagger.__init__\u001b[0;34m(self, rawargs)\u001b[0m\n\u001b[1;32m    119\u001b[0m \u001b[39mdef\u001b[39;00m \u001b[39m__init__\u001b[39m(\u001b[39mself\u001b[39m, rawargs\u001b[39m=\u001b[39m\u001b[39m\"\u001b[39m\u001b[39m\"\u001b[39m):\n\u001b[1;32m    120\u001b[0m     \u001b[39m# First check for Unidic.\u001b[39;00m\n\u001b[0;32m--> 121\u001b[0m     unidicdir \u001b[39m=\u001b[39m try_import_unidic()\n\u001b[1;32m    122\u001b[0m     args \u001b[39m=\u001b[39m rawargs\n\u001b[1;32m    123\u001b[0m     \u001b[39mif\u001b[39;00m unidicdir:\n",
      "File \u001b[0;32m/usr/local/lib/python3.12/site-packages/MeCab/__init__.py:65\u001b[0m, in \u001b[0;36mtry_import_unidic\u001b[0;34m()\u001b[0m\n\u001b[1;32m     63\u001b[0m \u001b[39mexcept\u001b[39;00m \u001b[39mImportError\u001b[39;00m:\n\u001b[1;32m     64\u001b[0m     \u001b[39mtry\u001b[39;00m:\n\u001b[0;32m---> 65\u001b[0m         \u001b[39mimport\u001b[39;00m \u001b[39munidic_lite\u001b[39;00m\n\u001b[1;32m     66\u001b[0m         \u001b[39mreturn\u001b[39;00m unidic_lite\u001b[39m.\u001b[39mDICDIR\n\u001b[1;32m     67\u001b[0m     \u001b[39mexcept\u001b[39;00m \u001b[39mImportError\u001b[39;00m:\n\u001b[1;32m     68\u001b[0m         \u001b[39m# This is OK, just give up.\u001b[39;00m\n",
      "File \u001b[0;32m<frozen importlib._bootstrap>:1354\u001b[0m, in \u001b[0;36m_find_and_load\u001b[0;34m(name, import_)\u001b[0m\n",
      "File \u001b[0;32m<frozen importlib._bootstrap>:1316\u001b[0m, in \u001b[0;36m_find_and_load_unlocked\u001b[0;34m(name, import_)\u001b[0m\n",
      "File \u001b[0;32m<frozen importlib._bootstrap>:1256\u001b[0m, in \u001b[0;36m_find_spec\u001b[0;34m(name, path, target)\u001b[0m\n",
      "File \u001b[0;32m<frozen importlib._bootstrap_external>:1524\u001b[0m, in \u001b[0;36mfind_spec\u001b[0;34m(cls, fullname, path, target)\u001b[0m\n",
      "File \u001b[0;32m<frozen importlib._bootstrap_external>:1498\u001b[0m, in \u001b[0;36m_get_spec\u001b[0;34m(cls, fullname, path, target)\u001b[0m\n",
      "File \u001b[0;32m<frozen importlib._bootstrap_external>:1628\u001b[0m, in \u001b[0;36mfind_spec\u001b[0;34m(self, fullname, target)\u001b[0m\n",
      "File \u001b[0;32m<frozen importlib._bootstrap>:491\u001b[0m, in \u001b[0;36m_verbose_message\u001b[0;34m(message, verbosity, *args)\u001b[0m\n",
      "\u001b[0;31mKeyboardInterrupt\u001b[0m: "
     ]
    }
   ],
   "source": [
    "import pandas as pd\n",
    "import pickle\n",
    "from tqdm import tqdm\n",
    "from gensim.corpora import WikiCorpus\n",
    "\n",
    "\n",
    "# ステップ1: データの解析\n",
    "# wiki_dump_path = 'jawiki-latest-pages-articles.xml.bz2'\n",
    "wiki_dump_path = 'jawiki-latest-pages-articles.xml.bz2'\n",
    "wiki_corpus = WikiCorpus(wiki_dump_path, dictionary={})\n",
    "\n",
    "# ステップ2: 単語の前処理\n",
    "def process_text(text):\n",
    "    mecab = MeCab.Tagger(\"-Owakati\")\n",
    "    parsed_text = mecab.parse(text)\n",
    "    words = parsed_text.strip().split()\n",
    "    return words\n",
    "\n",
    "# ステップ3: 単語の頻度計算\n",
    "word_counts = Counter()\n",
    "for text in tqdm(wiki_corpus.get_texts()):\n",
    "    for w in text:\n",
    "        word_counts.update(process_text(w))\n",
    "\n",
    "# ステップ4: 頻度の高い単語のランキング作成\n",
    "most_common_words = word_counts.most_common()\n",
    "\n",
    "# ランキングデータを表形式に変換\n",
    "data = {\"Word\": [word for word, freq in most_common_words],\n",
    "        \"Frequency\": [freq for word, freq in most_common_words]}\n",
    "df = pd.DataFrame(data)\n",
    "\n",
    "# 表形式のデータをPickle形式で保存\n",
    "output_pickle_file = \"word_ranking.pkl\"  # 保存先Pickleファイル名\n",
    "\n",
    "with open(output_pickle_file, \"wb\") as picklefile:\n",
    "    pickle.dump(df, picklefile)\n",
    "\n",
    "print(f\"Word ranking saved to {output_pickle_file}\")\n"
   ]
  },
  {
   "cell_type": "code",
   "execution_count": 15,
   "metadata": {},
   "outputs": [
    {
     "ename": "TypeError",
     "evalue": "WikiCorpus.get_texts() got an unexpected keyword argument 'limit'",
     "output_type": "error",
     "traceback": [
      "\u001b[0;31m---------------------------------------------------------------------------\u001b[0m",
      "\u001b[0;31mTypeError\u001b[0m                                 Traceback (most recent call last)",
      "Cell \u001b[0;32mIn[15], line 16\u001b[0m\n\u001b[1;32m     14\u001b[0m \u001b[38;5;66;03m# ステップ3: 単語の頻度計算\u001b[39;00m\n\u001b[1;32m     15\u001b[0m word_counts \u001b[38;5;241m=\u001b[39m Counter()\n\u001b[0;32m---> 16\u001b[0m \u001b[38;5;28;01mfor\u001b[39;00m text \u001b[38;5;129;01min\u001b[39;00m tqdm(\u001b[43mwiki_corpus\u001b[49m\u001b[38;5;241;43m.\u001b[39;49m\u001b[43mget_texts\u001b[49m\u001b[43m(\u001b[49m\u001b[43mlimit\u001b[49m\u001b[38;5;241;43m=\u001b[39;49m\u001b[38;5;241;43m3000\u001b[39;49m\u001b[43m)\u001b[49m):\n\u001b[1;32m     17\u001b[0m     res \u001b[38;5;241m=\u001b[39m \u001b[38;5;124m\"\u001b[39m\u001b[38;5;124m\"\u001b[39m\u001b[38;5;241m.\u001b[39mjoin(text)\n\u001b[1;32m     18\u001b[0m     mecab \u001b[38;5;241m=\u001b[39m MeCab\u001b[38;5;241m.\u001b[39mTagger(ipadic\u001b[38;5;241m.\u001b[39mMECAB_ARGS)\n",
      "\u001b[0;31mTypeError\u001b[0m: WikiCorpus.get_texts() got an unexpected keyword argument 'limit'"
     ]
    }
   ],
   "source": [
    "import pandas as pd\n",
    "import pickle\n",
    "from tqdm import tqdm\n",
    "from gensim.corpora import WikiCorpus\n",
    "import MeCab\n",
    "import ipadic\n",
    "from collections import Counter\n",
    "\n",
    "\n",
    "# ステップ1: データの解析\n",
    "wiki_dump_path = 'jawiki-latest-pages-articles.xml.bz2'\n",
    "wiki_corpus = WikiCorpus(wiki_dump_path, dictionary={})\n",
    "\n",
    "# ステップ3: 単語の頻度計算\n",
    "word_counts = Counter()\n",
    "count = 0\n",
    "for text in tqdm(wiki_corpus.get_texts()):\n",
    "    res = \"\".join(text)\n",
    "    mecab = MeCab.Tagger(ipadic.MECAB_ARGS)\n",
    "    parsed_text = mecab.parse(res)\n",
    "    # print(parse_text)\n",
    "    \n",
    "    nouns = []\n",
    "    for line in parsed_text.splitlines():\n",
    "        if \"名詞\" in line:\n",
    "            noun = line.split()[0]  # 名詞の単語部分を取得\n",
    "            nouns.append(noun)\n",
    "    word_counts.update(nouns)\n",
    "\n",
    "    count += 1\n",
    "    if count == 3000:\n",
    "        break\n",
    "    # print(word_counts)\n",
    "m_w = word_counts.most_common()\n",
    "print(m_w)\n",
    "    # for ws in text:\n",
    "        # word_counts.update(process_text(w))"
   ]
  },
  {
   "cell_type": "code",
   "execution_count": 13,
   "metadata": {},
   "outputs": [
    {
     "ename": "AttributeError",
     "evalue": "'WikiCorpus' object has no attribute 'length'",
     "output_type": "error",
     "traceback": [
      "\u001b[0;31m---------------------------------------------------------------------------\u001b[0m",
      "\u001b[0;31mAttributeError\u001b[0m                            Traceback (most recent call last)",
      "Cell \u001b[0;32mIn[13], line 3\u001b[0m\n\u001b[1;32m      1\u001b[0m \u001b[38;5;66;03m# for text in tqdm(wiki_corpus.get_texts()):\u001b[39;00m\n\u001b[1;32m      2\u001b[0m \u001b[38;5;66;03m#     pass\u001b[39;00m\n\u001b[0;32m----> 3\u001b[0m corpus_length \u001b[38;5;241m=\u001b[39m \u001b[38;5;28;43mlen\u001b[39;49m\u001b[43m(\u001b[49m\u001b[43mwiki_corpus\u001b[49m\u001b[43m)\u001b[49m\n\u001b[1;32m      4\u001b[0m \u001b[38;5;28mprint\u001b[39m(\u001b[38;5;124mf\u001b[39m\u001b[38;5;124m\"\u001b[39m\u001b[38;5;124mWikiCorpusの長さ（記事の数）: \u001b[39m\u001b[38;5;132;01m{\u001b[39;00mcorpus_length\u001b[38;5;132;01m}\u001b[39;00m\u001b[38;5;124m\"\u001b[39m)\n",
      "File \u001b[0;32m/usr/local/lib/python3.12/site-packages/gensim/corpora/textcorpus.py:390\u001b[0m, in \u001b[0;36mTextCorpus.__len__\u001b[0;34m(self)\u001b[0m\n\u001b[1;32m    376\u001b[0m \u001b[38;5;28;01mdef\u001b[39;00m \u001b[38;5;21m__len__\u001b[39m(\u001b[38;5;28mself\u001b[39m):\n\u001b[1;32m    377\u001b[0m \u001b[38;5;250m    \u001b[39m\u001b[38;5;124;03m\"\"\"Get length of corpus\u001b[39;00m\n\u001b[1;32m    378\u001b[0m \n\u001b[1;32m    379\u001b[0m \u001b[38;5;124;03m    Warnings\u001b[39;00m\n\u001b[0;32m   (...)\u001b[0m\n\u001b[1;32m    388\u001b[0m \n\u001b[1;32m    389\u001b[0m \u001b[38;5;124;03m    \"\"\"\u001b[39;00m\n\u001b[0;32m--> 390\u001b[0m     \u001b[38;5;28;01mif\u001b[39;00m \u001b[38;5;28;43mself\u001b[39;49m\u001b[38;5;241;43m.\u001b[39;49m\u001b[43mlength\u001b[49m \u001b[38;5;129;01mis\u001b[39;00m \u001b[38;5;28;01mNone\u001b[39;00m:\n\u001b[1;32m    391\u001b[0m         \u001b[38;5;66;03m# cache the corpus length\u001b[39;00m\n\u001b[1;32m    392\u001b[0m         \u001b[38;5;28mself\u001b[39m\u001b[38;5;241m.\u001b[39mlength \u001b[38;5;241m=\u001b[39m \u001b[38;5;28msum\u001b[39m(\u001b[38;5;241m1\u001b[39m \u001b[38;5;28;01mfor\u001b[39;00m _ \u001b[38;5;129;01min\u001b[39;00m \u001b[38;5;28mself\u001b[39m\u001b[38;5;241m.\u001b[39mgetstream())\n\u001b[1;32m    393\u001b[0m     \u001b[38;5;28;01mreturn\u001b[39;00m \u001b[38;5;28mself\u001b[39m\u001b[38;5;241m.\u001b[39mlength\n",
      "\u001b[0;31mAttributeError\u001b[0m: 'WikiCorpus' object has no attribute 'length'"
     ]
    }
   ],
   "source": [
    "# for text in tqdm(wiki_corpus.get_texts()):\n",
    "#     pass\n",
    "corpus_length = len(wiki_corpus)\n",
    "print(f\"WikiCorpusの長さ（記事の数）: {corpus_length}\")\n"
   ]
  }
 ],
 "metadata": {
  "kernelspec": {
   "display_name": "Python 3",
   "language": "python",
   "name": "python3"
  },
  "language_info": {
   "codemirror_mode": {
    "name": "ipython",
    "version": 3
   },
   "file_extension": ".py",
   "mimetype": "text/x-python",
   "name": "python",
   "nbconvert_exporter": "python",
   "pygments_lexer": "ipython3",
   "version": "3.12.0"
  }
 },
 "nbformat": 4,
 "nbformat_minor": 2
}

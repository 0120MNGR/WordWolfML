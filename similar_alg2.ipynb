{
 "cells": [
  {
   "cell_type": "markdown",
   "metadata": {},
   "source": [
    "ベクトルを足さず、コサイン類似度のみで言葉を生成する。"
   ]
  },
  {
   "cell_type": "code",
   "execution_count": 1,
   "metadata": {},
   "outputs": [],
   "source": [
    "from gensim.models import KeyedVectors\n",
    "import json\n",
    "\n",
    "# Word2Vecモデルのロード\n",
    "model = KeyedVectors.load_word2vec_format('model_neo_nouns_only.bin', binary=True)\n",
    "\n",
    "with open('word_pairs.json', 'r', encoding='utf-8') as f:\n",
    "    word_pairs = json.load(f)"
   ]
  },
  {
   "cell_type": "code",
   "execution_count": 3,
   "metadata": {},
   "outputs": [
    {
     "data": {
      "text/plain": [
       "[('サントリー天然水', 0.7073501944541931),\n",
       " ('南アルプスの天然水', 0.6818466186523438),\n",
       " ('ナチュラルミネラルウォーター', 0.6715477705001831),\n",
       " ('ミネラルウォーター', 0.6250886917114258),\n",
       " ('アサヒおいしい水', 0.6134332418441772),\n",
       " ('おいしい水', 0.6005318760871887),\n",
       " ('缶チューハイ', 0.5496819019317627),\n",
       " ('名水', 0.5460743308067322),\n",
       " ('ザ・プレミアム・モルツ', 0.5439411997795105),\n",
       " ('カルピスウォーター', 0.5420613884925842)]"
      ]
     },
     "execution_count": 3,
     "metadata": {},
     "output_type": "execute_result"
    }
   ],
   "source": [
    "\n",
    "word = \"天然水\"\n",
    "# model.similar_by_word(word)\n",
    "lst = model.similar_by_key(word, topn=10)\n",
    "lst"
   ]
  },
  {
   "cell_type": "markdown",
   "metadata": {},
   "source": [
    "ベクトルを足したあとに生成した場合"
   ]
  },
  {
   "cell_type": "code",
   "execution_count": 4,
   "metadata": {},
   "outputs": [
    {
     "data": {
      "text/plain": [
       "[('天然水', 0.7850627303123474),\n",
       " ('南アルプスの天然水', 0.5530255436897278),\n",
       " ('サントリー天然水', 0.5445462465286255),\n",
       " ('ナチュラルミネラルウォーター', 0.4818604588508606),\n",
       " ('ミネラルウォーター', 0.46700742840766907),\n",
       " ('アサヒおいしい水', 0.45366722345352173),\n",
       " ('日本酒', 0.4358205199241638),\n",
       " ('おいしい水', 0.43400683999061584),\n",
       " ('千枚田', 0.42660924792289734),\n",
       " ('清酒', 0.41334670782089233)]"
      ]
     },
     "execution_count": 4,
     "metadata": {},
     "output_type": "execute_result"
    }
   ],
   "source": [
    "import numpy as np\n",
    "import matplotlib.pyplot as plt\n",
    "from scipy.stats import gaussian_kde\n",
    "\n",
    "vector_diff = [] # ベクトルの差のリスト\n",
    "for word1, word2 in word_pairs:\n",
    "    if word1 in model.key_to_index and word2 in model.key_to_index:\n",
    "        vector_diff.append(model[word1] - model[word2])\n",
    "        \n",
    "v = np.concatenate(vector_diff)\n",
    "kde = gaussian_kde(v)\n",
    "\n",
    "pre_vec_diff = kde.resample(300).flatten()\n",
    "vec_generated = model[word] + pre_vec_diff\n",
    "\n",
    "model.similar_by_vector(vec_generated, topn=10)"
   ]
  },
  {
   "cell_type": "markdown",
   "metadata": {},
   "source": [
    "# 単語の頻度のランキングを出す。"
   ]
  },
  {
   "cell_type": "code",
   "execution_count": 1,
   "metadata": {},
   "outputs": [
    {
     "name": "stderr",
     "output_type": "stream",
     "text": [
      "0it [00:00, ?it/s]c:\\Users\\issei\\AppData\\Local\\Programs\\Python\\Python311\\Lib\\site-packages\\gensim\\utils.py:1333: UserWarning: detected Windows; aliasing chunkize to chunkize_serial\n",
      "  warnings.warn(\"detected %s; aliasing chunkize to chunkize_serial\" % entity)\n",
      "934956it [59:30, 261.86it/s]\n"
     ]
    }
   ],
   "source": [
    "import pandas as pd\n",
    "import pickle\n",
    "from tqdm import tqdm\n",
    "from gensim.corpora import WikiCorpus\n",
    "import MeCab\n",
    "import ipadic\n",
    "from collections import Counter\n",
    "import re\n",
    "import winsound\n",
    "\n",
    "# ステップ1: データの解析\n",
    "# wiki_dump_path = 'jawiki-latest-pages-articles.xml.bz2'\n",
    "wiki_dump_path = 'bin/jawiki-latest-pages-articles.xml.bz2'\n",
    "wiki_corpus = WikiCorpus(wiki_dump_path, dictionary={})\n",
    "\n",
    "# ステップ3: 単語の頻度計算\n",
    "word_counts = Counter()\n",
    "mecab = MeCab.Tagger(ipadic.MECAB_ARGS)\n",
    "\n",
    "for text in tqdm(wiki_corpus.get_texts()):\n",
    "    res = \"\".join(text)\n",
    "    parsed_text = mecab.parse(res)\n",
    "    # print(parse_text)\n",
    "    \n",
    "    nouns = []\n",
    "    for line in parsed_text.splitlines():\n",
    "        if \"名詞\" in line and (\"サ変接続\" in line or \"一般\" in line):\n",
    "            noun = line.split()[0]  # 名詞の単語部分を取得\n",
    "            noun = re.sub(r'\\b[a-zA-Z]\\b','', noun)\n",
    "            if noun != '':\n",
    "                nouns.append(noun)\n",
    "    word_counts.update(nouns)\n",
    "    \n",
    "    # print(word_counts)\n",
    "most_common_words = word_counts.most_common()\n",
    "\n",
    "# ランキングデータを表形式に変換\n",
    "data = {\"Word\": [word for word, freq in most_common_words],\n",
    "        \"Frequency\": [freq for word, freq in most_common_words]}\n",
    "df = pd.DataFrame(data)\n",
    "df\n",
    "winsound.Beep(442, 3000)  # 1000 Hzの音を500ミリ秒間鳴らす\n",
    "\n",
    "    # for ws in text:\n",
    "        # word_counts.update(process_text(w))"
   ]
  },
  {
   "cell_type": "code",
   "execution_count": 2,
   "metadata": {},
   "outputs": [
    {
     "data": {
      "text/html": [
       "<div>\n",
       "<style scoped>\n",
       "    .dataframe tbody tr th:only-of-type {\n",
       "        vertical-align: middle;\n",
       "    }\n",
       "\n",
       "    .dataframe tbody tr th {\n",
       "        vertical-align: top;\n",
       "    }\n",
       "\n",
       "    .dataframe thead th {\n",
       "        text-align: right;\n",
       "    }\n",
       "</style>\n",
       "<table border=\"1\" class=\"dataframe\">\n",
       "  <thead>\n",
       "    <tr style=\"text-align: right;\">\n",
       "      <th></th>\n",
       "      <th>Word</th>\n",
       "      <th>Frequency</th>\n",
       "    </tr>\n",
       "  </thead>\n",
       "  <tbody>\n",
       "    <tr>\n",
       "      <th>0</th>\n",
       "      <td>年</td>\n",
       "      <td>3057925</td>\n",
       "    </tr>\n",
       "    <tr>\n",
       "      <th>1</th>\n",
       "      <td>日</td>\n",
       "      <td>1879591</td>\n",
       "    </tr>\n",
       "    <tr>\n",
       "      <th>2</th>\n",
       "      <td>月</td>\n",
       "      <td>1278188</td>\n",
       "    </tr>\n",
       "    <tr>\n",
       "      <th>3</th>\n",
       "      <td>者</td>\n",
       "      <td>1019071</td>\n",
       "    </tr>\n",
       "    <tr>\n",
       "      <th>4</th>\n",
       "      <td>人</td>\n",
       "      <td>982168</td>\n",
       "    </tr>\n",
       "    <tr>\n",
       "      <th>...</th>\n",
       "      <td>...</td>\n",
       "      <td>...</td>\n",
       "    </tr>\n",
       "    <tr>\n",
       "      <th>13924</th>\n",
       "      <td>イモ</td>\n",
       "      <td>2000</td>\n",
       "    </tr>\n",
       "    <tr>\n",
       "      <th>13925</th>\n",
       "      <td>ケロロ</td>\n",
       "      <td>2000</td>\n",
       "    </tr>\n",
       "    <tr>\n",
       "      <th>13926</th>\n",
       "      <td>悪戯</td>\n",
       "      <td>2000</td>\n",
       "    </tr>\n",
       "    <tr>\n",
       "      <th>13927</th>\n",
       "      <td>さそり</td>\n",
       "      <td>2000</td>\n",
       "    </tr>\n",
       "    <tr>\n",
       "      <th>13928</th>\n",
       "      <td>被弾</td>\n",
       "      <td>2000</td>\n",
       "    </tr>\n",
       "  </tbody>\n",
       "</table>\n",
       "<p>13929 rows × 2 columns</p>\n",
       "</div>"
      ],
      "text/plain": [
       "      Word  Frequency\n",
       "0        年    3057925\n",
       "1        日    1879591\n",
       "2        月    1278188\n",
       "3        者    1019071\n",
       "4        人     982168\n",
       "...    ...        ...\n",
       "13924   イモ       2000\n",
       "13925  ケロロ       2000\n",
       "13926   悪戯       2000\n",
       "13927  さそり       2000\n",
       "13928   被弾       2000\n",
       "\n",
       "[13929 rows x 2 columns]"
      ]
     },
     "execution_count": 2,
     "metadata": {},
     "output_type": "execute_result"
    }
   ],
   "source": [
    "# pd.set_option('display.max_rows', 500)\n",
    "# df.head(500)\n",
    "\n",
    "df_a = df[df[\"Frequency\"] >= 2000]\n",
    "df_a"
   ]
  },
  {
   "cell_type": "code",
   "execution_count": 4,
   "metadata": {},
   "outputs": [],
   "source": [
    "df.to_pickle('bin/frec_jawiki-latest-pages-articles.pkl')"
   ]
  },
  {
   "cell_type": "code",
   "execution_count": 5,
   "metadata": {},
   "outputs": [
    {
     "data": {
      "text/plain": [
       "True"
      ]
     },
     "execution_count": 5,
     "metadata": {},
     "output_type": "execute_result"
    }
   ],
   "source": [
    "\"昭和\" in df_a[\"Word\"].values"
   ]
  }
 ],
 "metadata": {
  "kernelspec": {
   "display_name": "Python 3",
   "language": "python",
   "name": "python3"
  },
  "language_info": {
   "codemirror_mode": {
    "name": "ipython",
    "version": 3
   },
   "file_extension": ".py",
   "mimetype": "text/x-python",
   "name": "python",
   "nbconvert_exporter": "python",
   "pygments_lexer": "ipython3",
   "version": "3.11.4"
  }
 },
 "nbformat": 4,
 "nbformat_minor": 2
}
